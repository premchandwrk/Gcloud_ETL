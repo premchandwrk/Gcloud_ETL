{
 "cells": [
  {
   "cell_type": "code",
   "execution_count": 1,
   "metadata": {},
   "outputs": [],
   "source": [
    "import pandas as pd"
   ]
  },
  {
   "cell_type": "code",
   "execution_count": 15,
   "metadata": {},
   "outputs": [],
   "source": [
    "excel_file = 'random_data1.xlsx'\n",
    "sheet_name = 'Sheet1'"
   ]
  },
  {
   "cell_type": "code",
   "execution_count": 16,
   "metadata": {},
   "outputs": [],
   "source": [
    "df = pd.read_excel(excel_file, sheet_name=sheet_name)"
   ]
  },
  {
   "cell_type": "code",
   "execution_count": 17,
   "metadata": {},
   "outputs": [
    {
     "data": {
      "text/html": [
       "<div>\n",
       "<style scoped>\n",
       "    .dataframe tbody tr th:only-of-type {\n",
       "        vertical-align: middle;\n",
       "    }\n",
       "\n",
       "    .dataframe tbody tr th {\n",
       "        vertical-align: top;\n",
       "    }\n",
       "\n",
       "    .dataframe thead th {\n",
       "        text-align: right;\n",
       "    }\n",
       "</style>\n",
       "<table border=\"1\" class=\"dataframe\">\n",
       "  <thead>\n",
       "    <tr style=\"text-align: right;\">\n",
       "      <th></th>\n",
       "      <th>Title</th>\n",
       "      <th>Name</th>\n",
       "      <th>Filetype</th>\n",
       "      <th>Modified</th>\n",
       "      <th>Year</th>\n",
       "      <th>Country</th>\n",
       "      <th>Classification</th>\n",
       "      <th>Category_for_one_page</th>\n",
       "      <th>Application_type</th>\n",
       "      <th>path</th>\n",
       "      <th>...</th>\n",
       "      <th>Product_names</th>\n",
       "      <th>Diseases</th>\n",
       "      <th>pest</th>\n",
       "      <th>crop</th>\n",
       "      <th>efficacy</th>\n",
       "      <th>selectivity</th>\n",
       "      <th>Field_or_greenhouse_trial</th>\n",
       "      <th>Trial_report</th>\n",
       "      <th>summary</th>\n",
       "      <th>language</th>\n",
       "    </tr>\n",
       "  </thead>\n",
       "  <tbody>\n",
       "    <tr>\n",
       "      <th>0</th>\n",
       "      <td>Title C</td>\n",
       "      <td>John Doe</td>\n",
       "      <td>pdf</td>\n",
       "      <td>1970-01-01 05:30:45</td>\n",
       "      <td>2017</td>\n",
       "      <td>UK</td>\n",
       "      <td>Class C</td>\n",
       "      <td>Category C</td>\n",
       "      <td>Type 3</td>\n",
       "      <td>/path/to/file2</td>\n",
       "      <td>...</td>\n",
       "      <td>Product 3(5)</td>\n",
       "      <td>Disease 5</td>\n",
       "      <td>Pest 5,Pest 6</td>\n",
       "      <td>Crop 2</td>\n",
       "      <td>High</td>\n",
       "      <td>Yes</td>\n",
       "      <td>Greenhouse</td>\n",
       "      <td>True</td>\n",
       "      <td>Summary A</td>\n",
       "      <td>Spanish</td>\n",
       "    </tr>\n",
       "    <tr>\n",
       "      <th>1</th>\n",
       "      <td>Title C</td>\n",
       "      <td>Emma Davis</td>\n",
       "      <td>xlsx</td>\n",
       "      <td>1970-01-01 05:30:45</td>\n",
       "      <td>2017</td>\n",
       "      <td>UK</td>\n",
       "      <td>Class C</td>\n",
       "      <td>Category C</td>\n",
       "      <td>Type 1</td>\n",
       "      <td>/path/to/file4</td>\n",
       "      <td>...</td>\n",
       "      <td>Product 4(1), Product 5</td>\n",
       "      <td>Disease 6</td>\n",
       "      <td>Pest 3,Pest 4</td>\n",
       "      <td>Crop 6</td>\n",
       "      <td>Medium</td>\n",
       "      <td>Yes</td>\n",
       "      <td>Field</td>\n",
       "      <td>False</td>\n",
       "      <td>Summary B</td>\n",
       "      <td>Spanish</td>\n",
       "    </tr>\n",
       "    <tr>\n",
       "      <th>2</th>\n",
       "      <td>Title B</td>\n",
       "      <td>Emma Davis</td>\n",
       "      <td>txt</td>\n",
       "      <td>1970-01-01 05:30:45</td>\n",
       "      <td>2017</td>\n",
       "      <td>Australia</td>\n",
       "      <td>Class C</td>\n",
       "      <td>Category C</td>\n",
       "      <td>Type 2</td>\n",
       "      <td>/path/to/file3</td>\n",
       "      <td>...</td>\n",
       "      <td>Product 3(1)</td>\n",
       "      <td>Disease 6</td>\n",
       "      <td>Pest 5,Pest 6</td>\n",
       "      <td>Crop 1</td>\n",
       "      <td>Medium</td>\n",
       "      <td>No</td>\n",
       "      <td>Greenhouse</td>\n",
       "      <td>True</td>\n",
       "      <td>Summary C</td>\n",
       "      <td>French</td>\n",
       "    </tr>\n",
       "    <tr>\n",
       "      <th>3</th>\n",
       "      <td>Title B</td>\n",
       "      <td>Emma Davis</td>\n",
       "      <td>doc</td>\n",
       "      <td>1970-01-01 05:30:45</td>\n",
       "      <td>2017</td>\n",
       "      <td>Australia</td>\n",
       "      <td>Class B</td>\n",
       "      <td>Category A</td>\n",
       "      <td>Type 2</td>\n",
       "      <td>/path/to/file1</td>\n",
       "      <td>...</td>\n",
       "      <td>Product 1,Product 2(10), Product 3</td>\n",
       "      <td>Disease 5</td>\n",
       "      <td>Pest 7</td>\n",
       "      <td>Crop 1</td>\n",
       "      <td>High</td>\n",
       "      <td>No</td>\n",
       "      <td>Greenhouse</td>\n",
       "      <td>False</td>\n",
       "      <td>Summary D</td>\n",
       "      <td>Spanish</td>\n",
       "    </tr>\n",
       "    <tr>\n",
       "      <th>4</th>\n",
       "      <td>Title A</td>\n",
       "      <td>Jane Smith</td>\n",
       "      <td>xlsx</td>\n",
       "      <td>1970-01-01 05:30:45</td>\n",
       "      <td>2017</td>\n",
       "      <td>Canada</td>\n",
       "      <td>Class B</td>\n",
       "      <td>Category A</td>\n",
       "      <td>Type 1</td>\n",
       "      <td>/path/to/file3</td>\n",
       "      <td>...</td>\n",
       "      <td>Product 6</td>\n",
       "      <td>Disease 2,Disease 3</td>\n",
       "      <td>Pest 2</td>\n",
       "      <td>Crop 3,Crop 4</td>\n",
       "      <td>Low</td>\n",
       "      <td>Yes</td>\n",
       "      <td>Field</td>\n",
       "      <td>True</td>\n",
       "      <td>Summary E</td>\n",
       "      <td>French</td>\n",
       "    </tr>\n",
       "  </tbody>\n",
       "</table>\n",
       "<p>5 rows × 21 columns</p>\n",
       "</div>"
      ],
      "text/plain": [
       "     Title        Name Filetype            Modified  Year    Country  \\\n",
       "0  Title C    John Doe      pdf 1970-01-01 05:30:45  2017         UK   \n",
       "1  Title C  Emma Davis     xlsx 1970-01-01 05:30:45  2017         UK   \n",
       "2  Title B  Emma Davis      txt 1970-01-01 05:30:45  2017  Australia   \n",
       "3  Title B  Emma Davis      doc 1970-01-01 05:30:45  2017  Australia   \n",
       "4  Title A  Jane Smith     xlsx 1970-01-01 05:30:45  2017     Canada   \n",
       "\n",
       "  Classification Category_for_one_page Application_type            path  ...  \\\n",
       "0        Class C            Category C           Type 3  /path/to/file2  ...   \n",
       "1        Class C            Category C           Type 1  /path/to/file4  ...   \n",
       "2        Class C            Category C           Type 2  /path/to/file3  ...   \n",
       "3        Class B            Category A           Type 2  /path/to/file1  ...   \n",
       "4        Class B            Category A           Type 1  /path/to/file3  ...   \n",
       "\n",
       "                        Product_names             Diseases           pest  \\\n",
       "0                        Product 3(5)            Disease 5  Pest 5,Pest 6   \n",
       "1             Product 4(1), Product 5            Disease 6  Pest 3,Pest 4   \n",
       "2                        Product 3(1)            Disease 6  Pest 5,Pest 6   \n",
       "3  Product 1,Product 2(10), Product 3            Disease 5         Pest 7   \n",
       "4                           Product 6  Disease 2,Disease 3         Pest 2   \n",
       "\n",
       "            crop efficacy selectivity Field_or_greenhouse_trial Trial_report  \\\n",
       "0         Crop 2     High         Yes                Greenhouse         True   \n",
       "1         Crop 6   Medium         Yes                     Field        False   \n",
       "2         Crop 1   Medium          No                Greenhouse         True   \n",
       "3         Crop 1     High          No                Greenhouse        False   \n",
       "4  Crop 3,Crop 4      Low         Yes                     Field         True   \n",
       "\n",
       "     summary language  \n",
       "0  Summary A  Spanish  \n",
       "1  Summary B  Spanish  \n",
       "2  Summary C   French  \n",
       "3  Summary D  Spanish  \n",
       "4  Summary E   French  \n",
       "\n",
       "[5 rows x 21 columns]"
      ]
     },
     "execution_count": 17,
     "metadata": {},
     "output_type": "execute_result"
    }
   ],
   "source": [
    "df"
   ]
  },
  {
   "cell_type": "code",
   "execution_count": 6,
   "metadata": {},
   "outputs": [],
   "source": [
    "df[\"Modified_date\"] = pd.to_datetime('now')"
   ]
  },
  {
   "cell_type": "code",
   "execution_count": 2,
   "metadata": {},
   "outputs": [
    {
     "name": "stdout",
     "output_type": "stream",
     "text": [
      "2024-02-22 17:27:41.424311\n"
     ]
    }
   ],
   "source": [
    "import pandas as pd\n",
    "time = pd.to_datetime('now')\n",
    "print(time)"
   ]
  },
  {
   "cell_type": "code",
   "execution_count": 21,
   "metadata": {},
   "outputs": [],
   "source": [
    "# Function to remove counts in parentheses and extra whitespace characters\n",
    "import re\n",
    "def remove_counts(text):\n",
    "    # Remove counts in parentheses\n",
    "    text = re.sub(r'\\(\\d+\\)', '', text)\n",
    "    # Remove extra whitespace characters\n",
    "    text = re.sub(r'\\s+', ' ', text)\n",
    "    return text.strip()"
   ]
  },
  {
   "cell_type": "code",
   "execution_count": 22,
   "metadata": {},
   "outputs": [],
   "source": [
    "df['Product_names'] = df['Product_names'].apply(remove_counts)"
   ]
  },
  {
   "cell_type": "code",
   "execution_count": 19,
   "metadata": {},
   "outputs": [],
   "source": [
    "df['Product_names'] = df['Product_names'].str.strip()"
   ]
  },
  {
   "cell_type": "code",
   "execution_count": 23,
   "metadata": {},
   "outputs": [
    {
     "data": {
      "text/plain": [
       "0                         Product 3\n",
       "1              Product 4, Product 5\n",
       "2                         Product 3\n",
       "3    Product 1,Product 2, Product 3\n",
       "4                         Product 6\n",
       "Name: Product_names, dtype: object"
      ]
     },
     "execution_count": 23,
     "metadata": {},
     "output_type": "execute_result"
    }
   ],
   "source": [
    "df['Product_names']"
   ]
  },
  {
   "cell_type": "code",
   "execution_count": 11,
   "metadata": {},
   "outputs": [],
   "source": [
    "df['Field_or_greenhouse_trial'] = df['Field_or_greenhouse_trial'].str.lower().replace({'greenhouse':'green-house'})"
   ]
  },
  {
   "cell_type": "code",
   "execution_count": 12,
   "metadata": {},
   "outputs": [
    {
     "data": {
      "text/plain": [
       "0    green-house\n",
       "1          field\n",
       "2    green-house\n",
       "3    green-house\n",
       "4          field\n",
       "Name: Field_or_greenhouse_trial, dtype: object"
      ]
     },
     "execution_count": 12,
     "metadata": {},
     "output_type": "execute_result"
    }
   ],
   "source": [
    "df['Field_or_greenhouse_trial']"
   ]
  },
  {
   "cell_type": "code",
   "execution_count": 26,
   "metadata": {},
   "outputs": [
    {
     "name": "stdout",
     "output_type": "stream",
     "text": [
      "                   Product_names\n",
      "0                      Product 3\n",
      "1            Product 4,Product 5\n",
      "2                      Product 3\n",
      "3  Product 1,Product 2,Product 3\n",
      "4                      Product 6\n"
     ]
    }
   ],
   "source": [
    "import pandas as pd\n",
    "\n",
    "# Example DataFrame\n",
    "data = {'Product_names': ['Product 3(5)', 'Product 4(1), Product 5', 'Product 3(1)', 'Product 1,Product 2(10), Product 3', 'Product 6']}\n",
    "df = pd.DataFrame(data)\n",
    "\n",
    "# Function to remove counts in parentheses and strip extra spaces\n",
    "import re\n",
    "\n",
    "# Function to remove counts in parentheses and strip extra spaces\n",
    "def remove_counts_and_spaces(text):\n",
    "    # Remove counts in parentheses\n",
    "    text = re.sub(r'\\(\\d+\\)', '', text)\n",
    "    # Remove extra whitespace characters around commas\n",
    "    text = re.sub(r'\\s*,\\s*', ',', text)\n",
    "    return text.strip()\n",
    "\n",
    "\n",
    "# Remove extra spaces within the \"Product_names\" column\n",
    "df['Product_names'] = df['Product_names'].apply(remove_counts_and_spaces)\n",
    "print(df)\n"
   ]
  },
  {
   "cell_type": "code",
   "execution_count": 2,
   "metadata": {},
   "outputs": [
    {
     "name": "stdout",
     "output_type": "stream",
     "text": [
      "         Present_Date_Column\n",
      "0 2024-02-21 12:23:36.379924\n"
     ]
    }
   ],
   "source": [
    "import pandas as pd\n",
    "from datetime import datetime\n",
    "\n",
    "# Get the present date\n",
    "present_date = datetime.now()\n",
    "\n",
    "# Create DataFrame\n",
    "df = pd.DataFrame({'Present_Date_Column': [present_date]})\n",
    "\n",
    "print(df)\n"
   ]
  },
  {
   "cell_type": "code",
   "execution_count": null,
   "metadata": {},
   "outputs": [],
   "source": []
  }
 ],
 "metadata": {
  "kernelspec": {
   "display_name": ".env",
   "language": "python",
   "name": "python3"
  },
  "language_info": {
   "codemirror_mode": {
    "name": "ipython",
    "version": 3
   },
   "file_extension": ".py",
   "mimetype": "text/x-python",
   "name": "python",
   "nbconvert_exporter": "python",
   "pygments_lexer": "ipython3",
   "version": "3.11.4"
  }
 },
 "nbformat": 4,
 "nbformat_minor": 2
}
